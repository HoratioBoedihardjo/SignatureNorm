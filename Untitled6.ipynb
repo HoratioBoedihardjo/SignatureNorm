{
 "cells": [
  {
   "cell_type": "code",
   "execution_count": 1,
   "id": "a9e39825",
   "metadata": {},
   "outputs": [
    {
     "name": "stdout",
     "output_type": "stream",
     "text": [
      "1.5828432649913526\n",
      "1.577614078720782\n"
     ]
    },
    {
     "name": "stderr",
     "output_type": "stream",
     "text": [
      "C:\\Users\\horatio\\anaconda3\\lib\\site-packages\\ipykernel\\eventloops.py:256: RuntimeWarning: coroutine 'Kernel.do_one_iteration' was never awaited\n",
      "  self.func()\n",
      "RuntimeWarning: Enable tracemalloc to get the object allocation traceback\n"
     ]
    }
   ],
   "source": [
    "import math\n",
    "import iisignature\n",
    "import matplotlib\n",
    "import numpy\n",
    "from itertools import product\n",
    "\n",
    "matplotlib.use('TkAgg')\n",
    "import matplotlib.pyplot as plt\n",
    "import numpy as np\n",
    "from math import sqrt\n",
    "\n",
    "n=3\n",
    "T= 1.\n",
    "times = np.linspace(0., T, n)\n",
    "dt = times[1]-times[0]\n",
    "dB = np.sqrt(dt)*np.random.normal(size=(n-1,))\n",
    "dB1 = np.sqrt(dt)*np.random.normal(size=(n-1,))\n",
    "B0 = np.zeros(shape=(1,))\n",
    "B=np.concatenate((B0, np.cumsum(dB,))).reshape((-1,1))\n",
    "B1=np.concatenate((B0, np.cumsum(dB1))).reshape((-1,1))\n",
    "\n",
    "BPath = np.append(B,B1, axis=1)\n",
    "\n",
    "sig1 =iisignature.sig(BPath, int(16-1))\n",
    "sig2 =iisignature.sig(BPath, int(16))\n",
    "siglevel = np.array([j for j in sig2 if j not in sig1])\n",
    "\n",
    "list1 = ['00', '11']\n",
    "norm=[]\n",
    "for e1,e2,e3,e4,e5,e6,e7,e8 in product(list1, repeat=8):\n",
    "    norm.append(siglevel[int(e1+str(e2)+str(e3)+str(e4)+str(e5)+str(e6)+str(e7)+str(e8),2)])\n",
    "\n",
    "normsum = np.sum(norm)\n",
    "normlength = abs(normsum)\n",
    "\n",
    "l = math.factorial(16)*(normlength)\n",
    "result = math.pow(l,float(1)/float(16))\n",
    "\n",
    "\n",
    "\n",
    "dBsq = dB**(2)\n",
    "dB1sq = dB1**(2)\n",
    "sq = dBsq + dB1sq\n",
    "elements = np.sqrt(sq)\n",
    "length = np.sum(elements)\n",
    "\n",
    "print(length)\n",
    "print(result)\n"
   ]
  },
  {
   "cell_type": "code",
   "execution_count": null,
   "id": "e1ee2652",
   "metadata": {},
   "outputs": [],
   "source": []
  }
 ],
 "metadata": {
  "kernelspec": {
   "display_name": "Python 3 (ipykernel)",
   "language": "python",
   "name": "python3"
  },
  "language_info": {
   "codemirror_mode": {
    "name": "ipython",
    "version": 3
   },
   "file_extension": ".py",
   "mimetype": "text/x-python",
   "name": "python",
   "nbconvert_exporter": "python",
   "pygments_lexer": "ipython3",
   "version": "3.9.7"
  }
 },
 "nbformat": 4,
 "nbformat_minor": 5
}
